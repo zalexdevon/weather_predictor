{
 "cells": [
  {
   "cell_type": "code",
   "execution_count": null,
   "id": "3c908bad",
   "metadata": {},
   "outputs": [],
   "source": [
    "# Chuỗi nào có PM thì giá trị giờ cộng thêm 12 phút\n",
    "def process_time(gold_time: str):\n",
    "  if gold_time.endswith(\"PM\"):\n",
    "    parts = gold_time.split(\":\")\n",
    "    hour = int(parts[0]) + 12\n",
    "    gold_time = f\"{hour}:{parts[1]}\"\n",
    "\n",
    "  res = re.split(\"(AM|PM)\", gold_time)[0].strip()\n",
    "  res = res.split(\":\")[0]\n",
    "  return res\n",
    "\n",
    "format = r\"\\d+:\\d+\\s*(AM|PM)\"\n",
    "\n",
    "df_ordinal_cols = df[ordinal_cols]\n",
    "index_not_satisfy_format = df_ordinal_cols[df_ordinal_cols.applymap(lambda item: re.fullmatch(format, item) is None)].stack().index\n",
    "\n",
    "# Get các giá trị ứng với hiện tượng có xảy ra\n",
    "df_ordinal_cols_happen_stack = df_ordinal_cols.stack()\n",
    "df_ordinal_cols_happen_stack = df_ordinal_cols_happen_stack[~df_ordinal_cols_happen_stack.index.isin(index_not_satisfy_format)]\n",
    "df_ordinal_cols_happen_stack = df_ordinal_cols_happen_stack.apply(lambda item: process_time(item))\n",
    "\n",
    "# Cập nhật\n",
    "df_ordinal_cols_stack = df_ordinal_cols.stack()\n",
    "df_ordinal_cols_stack[df_ordinal_cols_happen_stack.index] = df_ordinal_cols_happen_stack\n",
    "df[ordinal_cols] = df_ordinal_cols_stack.unstack()\n"
   ]
  },
  {
   "cell_type": "code",
   "execution_count": null,
   "id": "5651b22b",
   "metadata": {},
   "outputs": [
    {
     "name": "stdout",
     "output_type": "stream",
     "text": [
      "Accuracy: 1.0000\n"
     ]
    }
   ],
   "source": [
    "from sklearn.ensemble import StackingClassifier\n",
    "from sklearn.linear_model import LogisticRegression\n",
    "from sklearn.tree import DecisionTreeClassifier\n",
    "from sklearn.svm import SVC\n",
    "from sklearn.datasets import load_iris\n",
    "from sklearn.model_selection import train_test_split\n",
    "from sklearn.metrics import accuracy_score\n",
    "\n",
    "\n",
    "# Các mô hình cơ bản (base learners)\n",
    "base_learners = [\n",
    "    ('decision_tree', DecisionTreeClassifier(max_depth=3)),\n",
    "    ('svm', SVC(kernel='linear', probability=True))\n",
    "]\n",
    "\n",
    "# Mô hình học kết hợp (meta-learner)\n",
    "meta_learner = LogisticRegression()\n",
    "\n",
    "# Khởi tạo StackingClassifier\n",
    "stacking_model = StackingClassifier(estimators=base_learners, final_estimator=meta_learner, cv=5)\n",
    "\n",
    "# Tải dữ liệu mẫu\n",
    "data = load_iris()\n",
    "X = data.data\n",
    "y = data.target\n",
    "\n",
    "# Chia tập dữ liệu\n",
    "X_train, X_test, y_train, y_test = train_test_split(X, y, test_size=0.2, random_state=42)\n",
    "\n",
    "# Huấn luyện mô hình\n",
    "stacking_model.fit(X_train, y_train)\n",
    "\n",
    "# Dự đoán trên tập kiểm tra\n",
    "y_pred = stacking_model.predict(X_test)\n",
    "\n",
    "# Tính độ chính xác\n",
    "accuracy = accuracy_score(y_test, y_pred)\n",
    "print(f\"Accuracy: {accuracy:.4f}\")\n"
   ]
  },
  {
   "cell_type": "code",
   "execution_count": null,
   "id": "046102a7",
   "metadata": {},
   "outputs": [],
   "source": [
    "from sklearn.preprocessing import "
   ]
  }
 ],
 "metadata": {
  "kernelspec": {
   "display_name": "ml_venv",
   "language": "python",
   "name": "python3"
  },
  "language_info": {
   "codemirror_mode": {
    "name": "ipython",
    "version": 3
   },
   "file_extension": ".py",
   "mimetype": "text/x-python",
   "name": "python",
   "nbconvert_exporter": "python",
   "pygments_lexer": "ipython3",
   "version": "3.9.18"
  }
 },
 "nbformat": 4,
 "nbformat_minor": 5
}
