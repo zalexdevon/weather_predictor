{
 "cells": [
  {
   "cell_type": "code",
   "execution_count": null,
   "id": "3c908bad",
   "metadata": {},
   "outputs": [],
   "source": [
    "# Chuỗi nào có PM thì giá trị giờ cộng thêm 12 phút\n",
    "def process_time(gold_time: str):\n",
    "  if gold_time.endswith(\"PM\"):\n",
    "    parts = gold_time.split(\":\")\n",
    "    hour = int(parts[0]) + 12\n",
    "    gold_time = f\"{hour}:{parts[1]}\"\n",
    "\n",
    "  res = re.split(\"(AM|PM)\", gold_time)[0].strip()\n",
    "  res = res.split(\":\")[0]\n",
    "  return res\n",
    "\n",
    "format = r\"\\d+:\\d+\\s*(AM|PM)\"\n",
    "\n",
    "df_ordinal_cols = df[ordinal_cols]\n",
    "index_not_satisfy_format = df_ordinal_cols[df_ordinal_cols.applymap(lambda item: re.fullmatch(format, item) is None)].stack().index\n",
    "\n",
    "# Get các giá trị ứng với hiện tượng có xảy ra\n",
    "df_ordinal_cols_happen_stack = df_ordinal_cols.stack()\n",
    "df_ordinal_cols_happen_stack = df_ordinal_cols_happen_stack[~df_ordinal_cols_happen_stack.index.isin(index_not_satisfy_format)]\n",
    "df_ordinal_cols_happen_stack = df_ordinal_cols_happen_stack.apply(lambda item: process_time(item))\n",
    "\n",
    "# Cập nhật\n",
    "df_ordinal_cols_stack = df_ordinal_cols.stack()\n",
    "df_ordinal_cols_stack[df_ordinal_cols_happen_stack.index] = df_ordinal_cols_happen_stack\n",
    "df[ordinal_cols] = df_ordinal_cols_stack.unstack()\n"
   ]
  }
 ],
 "metadata": {
  "kernelspec": {
   "display_name": "ml_venv",
   "language": "python",
   "name": "python3"
  },
  "language_info": {
   "name": "python",
   "version": "3.9.18"
  }
 },
 "nbformat": 4,
 "nbformat_minor": 5
}
