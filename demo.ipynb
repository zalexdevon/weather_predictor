{
 "cells": [
  {
   "cell_type": "code",
   "execution_count": null,
   "id": "3c908bad",
   "metadata": {},
   "outputs": [],
   "source": [
    "# Chuỗi nào có PM thì giá trị giờ cộng thêm 12 phút\n",
    "def process_time(gold_time: str):\n",
    "  if gold_time.endswith(\"PM\"):\n",
    "    parts = gold_time.split(\":\")\n",
    "    hour = int(parts[0]) + 12\n",
    "    gold_time = f\"{hour}:{parts[1]}\"\n",
    "\n",
    "  res = re.split(\"(AM|PM)\", gold_time)[0].strip()\n",
    "  res = res.split(\":\")[0]\n",
    "  return res\n",
    "\n",
    "format = r\"\\d+:\\d+\\s*(AM|PM)\"\n",
    "\n",
    "df_ordinal_cols = df[ordinal_cols]\n",
    "index_not_satisfy_format = df_ordinal_cols[df_ordinal_cols.applymap(lambda item: re.fullmatch(format, item) is None)].stack().index\n",
    "\n",
    "# Get các giá trị ứng với hiện tượng có xảy ra\n",
    "df_ordinal_cols_happen_stack = df_ordinal_cols.stack()\n",
    "df_ordinal_cols_happen_stack = df_ordinal_cols_happen_stack[~df_ordinal_cols_happen_stack.index.isin(index_not_satisfy_format)]\n",
    "df_ordinal_cols_happen_stack = df_ordinal_cols_happen_stack.apply(lambda item: process_time(item))\n",
    "\n",
    "# Cập nhật\n",
    "df_ordinal_cols_stack = df_ordinal_cols.stack()\n",
    "df_ordinal_cols_stack[df_ordinal_cols_happen_stack.index] = df_ordinal_cols_happen_stack\n",
    "df[ordinal_cols] = df_ordinal_cols_stack.unstack()\n"
   ]
  },
  {
   "cell_type": "code",
   "execution_count": null,
   "id": "5651b22b",
   "metadata": {},
   "outputs": [
    {
     "name": "stdout",
     "output_type": "stream",
     "text": [
      "Accuracy: 1.0000\n"
     ]
    }
   ],
   "source": [
    "from sklearn.ensemble import StackingClassifier\n",
    "from sklearn.linear_model import LogisticRegression\n",
    "from sklearn.tree import DecisionTreeClassifier\n",
    "from sklearn.svm import SVC\n",
    "from sklearn.datasets import load_iris\n",
    "from sklearn.model_selection import train_test_split\n",
    "from sklearn.metrics import accuracy_score\n",
    "\n",
    "\n",
    "# Các mô hình cơ bản (base learners)\n",
    "base_learners = [\n",
    "    ('decision_tree', DecisionTreeClassifier(max_depth=3)),\n",
    "    ('svm', SVC(kernel='linear', probability=True))\n",
    "]\n",
    "\n",
    "# Mô hình học kết hợp (meta-learner)\n",
    "meta_learner = LogisticRegression()\n",
    "\n",
    "# Khởi tạo StackingClassifier\n",
    "stacking_model = StackingClassifier(estimators=base_learners, final_estimator=meta_learner, cv=5)\n",
    "\n",
    "# Tải dữ liệu mẫu\n",
    "data = load_iris()\n",
    "X = data.data\n",
    "y = data.target\n",
    "\n",
    "# Chia tập dữ liệu\n",
    "X_train, X_test, y_train, y_test = train_test_split(X, y, test_size=0.2, random_state=42)\n",
    "\n",
    "# Huấn luyện mô hình\n",
    "stacking_model.fit(X_train, y_train)\n",
    "\n",
    "# Dự đoán trên tập kiểm tra\n",
    "y_pred = stacking_model.predict(X_test)\n",
    "\n",
    "# Tính độ chính xác\n",
    "accuracy = accuracy_score(y_test, y_pred)\n",
    "print(f\"Accuracy: {accuracy:.4f}\")\n"
   ]
  },
  {
   "cell_type": "code",
   "execution_count": 4,
   "id": "046102a7",
   "metadata": {},
   "outputs": [
    {
     "name": "stdout",
     "output_type": "stream",
     "text": [
      "Xác suất dự đoán cho các lớp:\n",
      "[[3.78468964e-03 8.27220592e-01 1.68994718e-01]\n",
      " [9.46738570e-01 5.32612296e-02 2.00200608e-07]\n",
      " [8.73019002e-09 1.55846967e-03 9.98441522e-01]\n",
      " [6.43338014e-03 7.92106296e-01 2.01460324e-01]\n",
      " [1.44094299e-03 7.74350518e-01 2.24208539e-01]\n",
      " [9.55783509e-01 4.42163143e-02 1.77062516e-07]\n",
      " [7.76129022e-02 9.08072540e-01 1.43145575e-02]\n",
      " [1.61393845e-04 1.55689752e-01 8.44148855e-01]\n",
      " [2.20749609e-03 7.62773187e-01 2.35019317e-01]\n",
      " [2.83156446e-02 9.45786638e-01 2.58977173e-02]\n",
      " [4.39625408e-04 2.43308395e-01 7.56251980e-01]\n",
      " [9.68317751e-01 3.16821713e-02 7.81652986e-08]\n",
      " [9.72944229e-01 2.70557379e-02 3.33763996e-08]\n",
      " [9.62107119e-01 3.78927703e-02 1.11058752e-07]\n",
      " [9.79275316e-01 2.07246192e-02 6.48256053e-08]\n",
      " [4.54171482e-03 7.12618594e-01 2.82839692e-01]\n",
      " [7.22701932e-06 2.42151312e-02 9.75777642e-01]\n",
      " [2.73295948e-02 9.47681419e-01 2.49889859e-02]\n",
      " [8.23128520e-03 8.31111653e-01 1.60657062e-01]\n",
      " [1.41955163e-05 3.59520213e-02 9.64033783e-01]\n",
      " [9.64376514e-01 3.56232929e-02 1.93113399e-07]\n",
      " [1.31358966e-03 3.99111988e-01 5.99574422e-01]\n",
      " [9.61636126e-01 3.83636127e-02 2.61494805e-07]\n",
      " [1.85440731e-05 4.58785611e-02 9.54102895e-01]\n",
      " [1.63852781e-06 2.58898526e-02 9.74108509e-01]\n",
      " [9.32528928e-05 1.05071490e-01 8.94835257e-01]\n",
      " [8.69151084e-06 5.83770015e-02 9.41614307e-01]\n",
      " [4.29983828e-06 1.88618550e-02 9.81133845e-01]\n",
      " [9.66849312e-01 3.31505519e-02 1.35974305e-07]\n",
      " [9.56314433e-01 4.36853345e-02 2.32709474e-07]]\n"
     ]
    },
    {
     "data": {
      "text/plain": [
       "(30, 3)"
      ]
     },
     "execution_count": 4,
     "metadata": {},
     "output_type": "execute_result"
    }
   ],
   "source": [
    "from sklearn.datasets import load_iris\n",
    "from sklearn.linear_model import LogisticRegression\n",
    "from sklearn.model_selection import train_test_split\n",
    "from sklearn.metrics import accuracy_score\n",
    "\n",
    "# Tải bộ dữ liệu Iris\n",
    "data = load_iris()\n",
    "X = data.data\n",
    "y = data.target\n",
    "\n",
    "# Chia dữ liệu thành tập huấn luyện và kiểm tra\n",
    "X_train, X_test, y_train, y_test = train_test_split(X, y, test_size=0.2, random_state=42)\n",
    "\n",
    "# Khởi tạo mô hình LogisticRegression\n",
    "model = LogisticRegression(max_iter=200)\n",
    "\n",
    "# Huấn luyện mô hình trên tập huấn luyện\n",
    "model.fit(X_train, y_train)\n",
    "\n",
    "# Dự đoán nhãn trên tập kiểm tra\n",
    "y_pred = model.predict(X_test)\n",
    "\n",
    "# Dự đoán xác suất cho các lớp\n",
    "y_proba = model.predict_proba(X_test)\n",
    "\n",
    "# In ra các xác suất cho lớp 0, 1 và 2\n",
    "print(\"Xác suất dự đoán cho các lớp:\")\n",
    "print(y_proba)\n",
    "\n",
    "y_proba.shape\n"
   ]
  },
  {
   "cell_type": "markdown",
   "id": "4e5025b8",
   "metadata": {},
   "source": [
    "Index(['index', 'wind_kph_num', 'wind_degree_num', 'pressure_in_num',\n",
    "       'humidity_num', 'cloud_num', 'visibility_km_num', 'uv_index_num',\n",
    "       'gust_kph_num', 'air_quality_Carbon_Monoxide_num',\n",
    "       'air_quality_Ozone_num', 'air_quality_Nitrogen_dioxide_num',\n",
    "       'air_quality_Sulphur_dioxide_num', 'air_quality_PM2_5_num',\n",
    "       'air_quality_PM10_num', 'moon_illumination_num', 'moon_phase_nom',\n",
    "       'sunrise_ord', 'sunset_ord', 'moonrise_ord', 'moonset_ord',\n",
    "       'temp_bin_target'],\n",
    "      dtype='object')"
   ]
  },
  {
   "cell_type": "markdown",
   "id": "175d4ab6",
   "metadata": {},
   "source": [
    "cột wind_kph_num bị lệch trên \n",
    "\n",
    "cột wind_degree_num đều \n",
    "\n",
    "cột pressure_in_num bị lệch trên \n",
    "\n",
    "cột humidity_num đều \n",
    "\n",
    "cột cloud_num đều \n",
    "\n",
    "cột visibility_km_num bị lệch 2 bên \n",
    "\n",
    "cột uv_index_num đều \n",
    "\n",
    "cột gust_kph_num bị lệch trên \n",
    "\n",
    "cột air_quality_Carbon_Monoxide_num  bị lệch trên \n",
    "\n",
    "cột air_quality_Ozone_num bị lệch trên \n",
    "\n",
    "cột air_quality_Nitrogen_dioxide_num  bị lệch trên \n",
    "\n",
    "cột air_quality_Sulphur_dioxide_num bị lệch trên \n",
    "\n",
    "cột air_quality_PM2_5_num bị lệch trên \n",
    "\n",
    "cột air_quality_PM10_num bị lệch trên\n",
    "\n",
    "cột moon_illumination_num đều "
   ]
  },
  {
   "cell_type": "code",
   "execution_count": null,
   "id": "08ce7987",
   "metadata": {},
   "outputs": [
    {
     "name": "stdout",
     "output_type": "stream",
     "text": [
      "Hello ban nhieu nha\n"
     ]
    }
   ],
   "source": [
    "import pandas as pd \n",
    "\n",
    "a = pd.Series(['a', 'b', 'c', ''])"
   ]
  },
  {
   "cell_type": "code",
   "execution_count": 5,
   "id": "40cd1909",
   "metadata": {},
   "outputs": [
    {
     "data": {
      "text/plain": [
       "0    d\n",
       "1    b\n",
       "2    c\n",
       "3    d\n",
       "dtype: object"
      ]
     },
     "execution_count": 5,
     "metadata": {},
     "output_type": "execute_result"
    }
   ],
   "source": [
    "import pandas as pd\n",
    "\n",
    "a = pd.Series(['a', 'b', 'c', 'a'])\n",
    "\n",
    "a = a.replace({\n",
    "    \"a\": \"d\"\n",
    "})\n",
    "\n",
    "a"
   ]
  },
  {
   "cell_type": "markdown",
   "id": "61586248",
   "metadata": {},
   "source": [
    "| Cot                       | Y nghia                                                               | Don vi | Phan loai |\n",
    "| ------------------------- | --------------------------------------------------------------------- | ------ | --------- |\n",
    "| wind_kph         | Tốc độ gió (km / hour)      | none   | numeric   |\n",
    "| wind_degree        | Hướng gió theo độ    | none   | numeric   |\n",
    "| pressure_in         | Áp suất (inches)    | none   | numeric   |\n",
    "| humidity         | Độ ẩm (%)    | none   | numeric   |\n",
    "| cloud         | Phần trăm mây bao phủ (%)    | none   | numeric   |\n",
    "| visibility_km         | Tầm nhìn (km)    | none   | numeric   |\n",
    "| uv_index         | Chỉ số tia UV    | none   | numeric   |\n",
    "| gust_kph         | sự tăng tốc đột ngột và mạnh mẽ của gió (km / h)    | none   | numeric   |\n",
    "| air_quality_Carbon_Monoxide         | Nồng độ $CO$    | none   | numeric   |\n",
    "| air_quality_Ozone         | Nồng độ $O_3$    | none   | numeric   |\n",
    "| air_quality_Nitrogen_dioxide         | Nồng độ $NO_2$    | none   | numeric   |\n",
    "| air_quality_Sulphur_dioxide         | Nồng độ $SO_2$    | none   | numeric   |\n",
    "| air_quality_PM2.5         | Nồng độ $PM2.5$    | none   | numeric   |\n",
    "| air_quality_PM10         | Nồng độ $PM10$    | none   | numeric   |\n",
    "| sunrise         | Thời điểm mặt trời lên   | none   | ordinal   |\n",
    "| sunset         | Thời điểm mặt trời lặn   | none   | ordinal   |\n",
    "| moonrise         | Thời điểm trăng lên   | none   | ordinal   |\n",
    "| moonset         | Thời điểm trăng lặn   | none   | ordinal   |\n",
    "| moon_phase         | Pha của mặt trăng   | none   | nominal   |\n",
    "| moon_illumination         | Độ sáng của mặt trăng (%)   | none   | numeric |\n"
   ]
  },
  {
   "cell_type": "code",
   "execution_count": 24,
   "id": "ae914301",
   "metadata": {},
   "outputs": [
    {
     "data": {
      "text/plain": [
       "[array(['b', 'c', 'daaa'], dtype=object)]"
      ]
     },
     "execution_count": 24,
     "metadata": {},
     "output_type": "execute_result"
    }
   ],
   "source": [
    "import pandas as pd \n",
    "from sklearn.preprocessing import OrdinalEncoder\n",
    "from sklearn.compose import ColumnTransformer\n",
    "\n",
    "\n",
    "a = pd.DataFrame(data={\n",
    "    'a': ['b', 'b', 'c', 'daaa', 'b'],\n",
    "    'b': ['01', '02', '03', '04', '01'],\n",
    "    'c': [1,2,3,4,5]\n",
    "})\n",
    "\n",
    "encoder = OrdinalEncoder()\n",
    "b = encoder.fit_transform(a[['a']])\n",
    "encoder.categories_"
   ]
  },
  {
   "cell_type": "code",
   "execution_count": 25,
   "id": "efba345c",
   "metadata": {},
   "outputs": [
    {
     "data": {
      "text/plain": [
       "'FEATURE_ORDINAL_DICT'"
      ]
     },
     "execution_count": 25,
     "metadata": {},
     "output_type": "execute_result"
    }
   ],
   "source": [
    "\"feature_ordinal_dict\".upper()"
   ]
  },
  {
   "cell_type": "code",
   "execution_count": 1,
   "id": "1c533e8e",
   "metadata": {},
   "outputs": [
    {
     "data": {
      "text/plain": [
       "'FEATURE_ORDINAL_DICT'"
      ]
     },
     "execution_count": 1,
     "metadata": {},
     "output_type": "execute_result"
    }
   ],
   "source": [
    "\"feature_ordinal_dict\".upper()\n"
   ]
  },
  {
   "cell_type": "code",
   "execution_count": 3,
   "id": "6ccc56e3",
   "metadata": {},
   "outputs": [
    {
     "data": {
      "text/plain": [
       "[]"
      ]
     },
     "execution_count": 3,
     "metadata": {},
     "output_type": "execute_result"
    }
   ],
   "source": [
    "a = {\n",
    "\n",
    "}\n",
    "\n",
    "a = list(a.keys())\n",
    "\n",
    "a"
   ]
  }
 ],
 "metadata": {
  "kernelspec": {
   "display_name": "ml_venv",
   "language": "python",
   "name": "python3"
  },
  "language_info": {
   "codemirror_mode": {
    "name": "ipython",
    "version": 3
   },
   "file_extension": ".py",
   "mimetype": "text/x-python",
   "name": "python",
   "nbconvert_exporter": "python",
   "pygments_lexer": "ipython3",
   "version": "3.9.18"
  }
 },
 "nbformat": 4,
 "nbformat_minor": 5
}
